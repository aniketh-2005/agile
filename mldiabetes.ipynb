{
 "cells": [
  {
   "cell_type": "markdown",
   "id": "3e0ab735-bb3a-43b4-8ae1-463e65a83b98",
   "metadata": {},
   "source": [
    "***diabetes Dataset***"
   ]
  },
  {
   "cell_type": "markdown",
   "id": "8e7ca744-6850-4e19-be18-50818e08f6ae",
   "metadata": {},
   "source": [
    "naibe bayers"
   ]
  },
  {
   "cell_type": "code",
   "execution_count": None,
   "id": "48b2d261-ef37-4552-af04-cffef369c10c",
   "metadata": {},
   "outputs": [],
   "source": [
    "import pandas as pd\n",
    "import numpy as np\n",
    "from sklearn.model_selection import train_test_split\n",
    "from sklearn.naive_bayes import GaussianNB\n",
    "from sklearn.metrics import accuracy_score\n",
    "import matplotlib.pyplot as plt\n",
    "import seaborn as sns"
   ]
  },
  {
   "cell_type": "code",
   "execution_count": 44,
   "id": "88c7e9b5-35f0-4bf8-b737-5139cbd6b43c",
   "metadata": {},
   "outputs": [
    {
     "data": {
      "text/html": [
       "<div>\n",
       "<style scoped>\n",
       "    .dataframe tbody tr th:only-of-type {\n",
       "        vertical-align: middle;\n",
       "    }\n",
       "\n",
       "    .dataframe tbody tr th {\n",
       "        vertical-align: top;\n",
       "    }\n",
       "\n",
       "    .dataframe thead th {\n",
       "        text-align: right;\n",
       "    }\n",
       "</style>\n",
       "<table border=\"1\" class=\"dataframe\">\n",
       "  <thead>\n",
       "    <tr style=\"text-align: right;\">\n",
       "      <th></th>\n",
       "      <th>glucose</th>\n",
       "      <th>bloodpressure</th>\n",
       "      <th>diabetes</th>\n",
       "    </tr>\n",
       "  </thead>\n",
       "  <tbody>\n",
       "    <tr>\n",
       "      <th>0</th>\n",
       "      <td>40</td>\n",
       "      <td>85</td>\n",
       "      <td>0</td>\n",
       "    </tr>\n",
       "    <tr>\n",
       "      <th>1</th>\n",
       "      <td>40</td>\n",
       "      <td>92</td>\n",
       "      <td>0</td>\n",
       "    </tr>\n",
       "    <tr>\n",
       "      <th>2</th>\n",
       "      <td>45</td>\n",
       "      <td>63</td>\n",
       "      <td>1</td>\n",
       "    </tr>\n",
       "    <tr>\n",
       "      <th>3</th>\n",
       "      <td>45</td>\n",
       "      <td>80</td>\n",
       "      <td>0</td>\n",
       "    </tr>\n",
       "    <tr>\n",
       "      <th>4</th>\n",
       "      <td>40</td>\n",
       "      <td>73</td>\n",
       "      <td>1</td>\n",
       "    </tr>\n",
       "  </tbody>\n",
       "</table>\n",
       "</div>"
      ],
      "text/plain": [
       "   glucose  bloodpressure  diabetes\n",
       "0       40             85         0\n",
       "1       40             92         0\n",
       "2       45             63         1\n",
       "3       45             80         0\n",
       "4       40             73         1"
      ]
     },
     "execution_count": 44,
     "metadata": {},
     "output_type": "execute_result"
    }
   ],
   "source": [
    "df=pd.read_csv(\"diabetes.csv.xls\")\n",
    "df.head()"
   ]
  },
  {
   "cell_type": "code",
   "execution_count": 45,
   "id": "5d8cf169-7834-4259-b3a1-809ee974e067",
   "metadata": {},
   "outputs": [
    {
     "data": {
      "text/html": [
       "<div>\n",
       "<style scoped>\n",
       "    .dataframe tbody tr th:only-of-type {\n",
       "        vertical-align: middle;\n",
       "    }\n",
       "\n",
       "    .dataframe tbody tr th {\n",
       "        vertical-align: top;\n",
       "    }\n",
       "\n",
       "    .dataframe thead th {\n",
       "        text-align: right;\n",
       "    }\n",
       "</style>\n",
       "<table border=\"1\" class=\"dataframe\">\n",
       "  <thead>\n",
       "    <tr style=\"text-align: right;\">\n",
       "      <th></th>\n",
       "      <th>glucose</th>\n",
       "      <th>bloodpressure</th>\n",
       "      <th>diabetes</th>\n",
       "    </tr>\n",
       "  </thead>\n",
       "  <tbody>\n",
       "    <tr>\n",
       "      <th>0</th>\n",
       "      <td>40</td>\n",
       "      <td>85</td>\n",
       "      <td>0</td>\n",
       "    </tr>\n",
       "    <tr>\n",
       "      <th>1</th>\n",
       "      <td>40</td>\n",
       "      <td>92</td>\n",
       "      <td>0</td>\n",
       "    </tr>\n",
       "    <tr>\n",
       "      <th>2</th>\n",
       "      <td>45</td>\n",
       "      <td>63</td>\n",
       "      <td>1</td>\n",
       "    </tr>\n",
       "    <tr>\n",
       "      <th>3</th>\n",
       "      <td>45</td>\n",
       "      <td>80</td>\n",
       "      <td>0</td>\n",
       "    </tr>\n",
       "    <tr>\n",
       "      <th>4</th>\n",
       "      <td>40</td>\n",
       "      <td>73</td>\n",
       "      <td>1</td>\n",
       "    </tr>\n",
       "  </tbody>\n",
       "</table>\n",
       "</div>"
      ],
      "text/plain": [
       "   glucose  bloodpressure  diabetes\n",
       "0       40             85         0\n",
       "1       40             92         0\n",
       "2       45             63         1\n",
       "3       45             80         0\n",
       "4       40             73         1"
      ]
     },
     "execution_count": 45,
     "metadata": {},
     "output_type": "execute_result"
    }
   ],
   "source": [
    "x_train,x_test,y_train,y_test = train_test_split(x,y,test_size=0.25,random_state=42)\n",
    "x=df.drop(\"diabetes\", axis=1)\n",
    "df.head()"
   ]
  },
  {
   "cell_type": "code",
   "execution_count": 46,
   "id": "99a6d350-9a11-4462-bf17-391de8e33306",
   "metadata": {},
   "outputs": [],
   "source": [
    "y=df['diabetes']"
   ]
  },
  {
   "cell_type": "code",
   "execution_count": 53,
   "id": "75cb232b-4c85-4344-937e-2b507aaa0b8a",
   "metadata": {},
   "outputs": [
    {
     "data": {
      "text/plain": [
       "array([1, 1, 1, 0, 0, 0, 1, 0, 0, 1, 0, 0, 0, 0, 0, 1, 1, 1, 1, 0, 0, 1,\n",
       "       1, 0, 0, 0, 1, 1, 0, 0, 0, 1, 0, 1, 0, 1, 1, 0, 0, 0, 1, 0, 0, 0,\n",
       "       0, 0, 1, 1, 1, 1, 0, 1, 0, 1, 1, 1, 1, 1, 1, 1, 0, 1, 1, 1, 0, 1,\n",
       "       1, 0, 1, 1, 0, 0, 0, 0, 1, 1, 0, 0, 1, 1, 0, 0, 0, 0, 0, 0, 0, 1,\n",
       "       0, 1, 0, 0, 1, 0, 1, 1, 0, 1, 1, 1, 1, 1, 1, 0, 0, 1, 1, 0, 1, 0,\n",
       "       1, 0, 1, 0, 0, 1, 0, 0, 1, 1, 1, 0, 0, 0, 0, 1, 1, 0, 1, 1, 1, 0,\n",
       "       0, 0, 1, 1, 1, 1, 0, 1, 1, 0, 1, 1, 1, 1, 0, 0, 1, 1, 0, 1, 0, 0,\n",
       "       1, 1, 1, 0, 0, 1, 1, 1, 0, 1, 1, 1, 0, 0, 1, 1, 1, 0, 1, 0, 0, 1,\n",
       "       0, 1, 1, 1, 1, 1, 0, 0, 0, 1, 1, 1, 0, 1, 1, 1, 1, 0, 0, 1, 0, 0,\n",
       "       0, 0, 1, 1, 1, 1, 0, 1, 1, 1, 0, 0, 1, 1, 1, 1, 1, 1, 1, 1, 0, 0,\n",
       "       1, 1, 0, 0, 1, 1, 1, 1, 0, 0, 1, 0, 0, 1, 0, 1, 1, 0, 1, 0, 1, 0,\n",
       "       1, 0, 1, 0, 0, 0, 0], dtype=int64)"
      ]
     },
     "execution_count": 53,
     "metadata": {},
     "output_type": "execute_result"
    }
   ],
   "source": [
    "model= GaussianNB()\n",
    "model.fit(x_train,y_train)\n",
    "y_pred = model.predict(x_test)\n",
    "y_pred"
   ]
  },
  {
   "cell_type": "code",
   "execution_count": 57,
   "id": "aaedd0dd-28fc-454f-9ecb-4650534f58b5",
   "metadata": {},
   "outputs": [
    {
     "name": "stdout",
     "output_type": "stream",
     "text": [
      "Accuracy: 92.7710843373494\n"
     ]
    }
   ],
   "source": [
    "accuracy = accuracy_score(y_test, y_pred)\n",
    "print(f\"Accuracy: {accuracy*100}\")"
   ]
  },
  {
   "cell_type": "markdown",
   "id": "c38a4429-5bea-4453-96d5-46652f7931d8",
   "metadata": {},
   "source": [
    "using decision treee"
   ]
  },
  {
   "cell_type": "code",
   "execution_count": 75,
   "id": "b22c1f06-d2ba-4adb-8919-a51235b2e263",
   "metadata": {},
   "outputs": [
    {
     "name": "stdout",
     "output_type": "stream",
     "text": [
      "   glucose  bloodpressure  diabetes\n",
      "0       40             85         0\n",
      "1       40             92         0\n",
      "2       45             63         1\n",
      "3       45             80         0\n",
      "4       40             73         1\n",
      "Accuracy: 93.97590361445783%\n"
     ]
    }
   ],
   "source": [
    "import pandas as pd\n",
    "from sklearn.model_selection import train_test_split\n",
    "from sklearn.tree import DecisionTreeClassifier\n",
    "from sklearn.metrics import accuracy_score, classification_report\n",
    "import matplotlib.pyplot as plt\n",
    "from sklearn import tree\n",
    "\n",
    "\n",
    "df = pd.read_csv(\"diabetes.csv.xls\")\n",
    "print(df.head())\n",
    "\n",
    "\n",
    "X = df.drop(\"diabetes\", axis=1) \n",
    "y = df[\"diabetes\"]  \n",
    "\n",
    "\n",
    "X_train, X_test, y_train, y_test = train_test_split(X, y, test_size=0.25, random_state=42)\n",
    "\n",
    "\n",
    "classifier = DecisionTreeClassifier(criterion='entropy', random_state=0)\n",
    "classifier.fit(X_train, y_train)\n",
    "\n",
    "\n",
    "y_pred = classifier.predict(X_test)\n",
    "\n",
    "\n",
    "accuracy = accuracy_score(y_test, y_pred)\n",
    "print(f\"Accuracy: {accuracy * 100:}%\")"
   ]
  },
  {
   "cell_type": "markdown",
   "id": "4b59425f-82cb-49f7-8847-7f100a78b16d",
   "metadata": {},
   "source": [
    "randomn forest"
   ]
  },
  {
   "cell_type": "code",
   "execution_count": 79,
   "id": "5c4c2744-b4cc-4ceb-84a2-44a5d98a82a7",
   "metadata": {},
   "outputs": [
    {
     "name": "stdout",
     "output_type": "stream",
     "text": [
      "   glucose  bloodpressure  diabetes\n",
      "0       40             85         0\n",
      "1       40             92         0\n",
      "2       45             63         1\n",
      "3       45             80         0\n",
      "4       40             73         1\n",
      "Accuracy: 94.37751004016064%\n"
     ]
    }
   ],
   "source": [
    "import pandas as pd\n",
    "from sklearn.model_selection import train_test_split\n",
    "from sklearn.tree import DecisionTreeClassifier\n",
    "from sklearn.metrics import accuracy_score, classification_report\n",
    "import matplotlib.pyplot as plt\n",
    "from sklearn import tree\n",
    "from sklearn.ensemble import RandomForestClassifier\n",
    "\n",
    "\n",
    "df = pd.read_csv(\"diabetes.csv.xls\")\n",
    "print(df.head())\n",
    "\n",
    "\n",
    "X = df.drop(\"diabetes\", axis=1)  # Features\n",
    "y = df[\"diabetes\"]  # Target\n",
    "\n",
    "\n",
    "X_train, X_test, y_train, y_test = train_test_split(X, y, test_size=0.25, random_state=42)\n",
    "\n",
    "classifier = RandomForestClassifier(n_estimators=100, criterion='entropy', random_state=0)\n",
    "classifier.fit(X_train, y_train)\n",
    "\n",
    "\n",
    "#classifier = DecisionTreeClassifier(criterion='entropy', random_state=0)\n",
    "#classifier.fit(X_train, y_train)\n",
    "\n",
    "\n",
    "y_pred = classifier.predict(X_test)\n",
    "\n",
    "accuracy = accuracy_score(y_test, y_pred)\n",
    "print(f\"Accuracy: {accuracy * 100:}%\")\n",
    "\n"
   ]
  },
  {
   "cell_type": "markdown",
   "id": "2b548078-37fa-4381-ac1b-a6deeb3958cb",
   "metadata": {},
   "source": [
    "svm\n"
   ]
  },
  {
   "cell_type": "code",
   "execution_count": 84,
   "id": "9a7199dc-4710-4c0e-980a-7d45a0a36c41",
   "metadata": {},
   "outputs": [
    {
     "name": "stdout",
     "output_type": "stream",
     "text": [
      "   glucose  bloodpressure  diabetes\n",
      "0       40             85         0\n",
      "1       40             92         0\n",
      "2       45             63         1\n",
      "3       45             80         0\n",
      "4       40             73         1\n",
      "Accuracy: 92.7710843373494%\n"
     ]
    }
   ],
   "source": [
    "import pandas as pd\n",
    "from sklearn.model_selection import train_test_split\n",
    "from sklearn.tree import DecisionTreeClassifier\n",
    "from sklearn.metrics import accuracy_score, classification_report\n",
    "import matplotlib.pyplot as plt\n",
    "from sklearn import tree\n",
    "from sklearn.ensemble import RandomForestClassifier\n",
    "from sklearn.svm import SVC\n",
    "\n",
    "df = pd.read_csv(\"diabetes.csv.xls\")\n",
    "print(df.head())\n",
    "\n",
    "\n",
    "X = df.drop(\"diabetes\", axis=1)  # Features\n",
    "y = df[\"diabetes\"]  # Target\n",
    "\n",
    "\n",
    "X_train, X_test, y_train, y_test = train_test_split(X, y, test_size=0.25, random_state=42)\n",
    "\n",
    "#classifier = RandomForestClassifier(n_estimators=100, criterion='entropy', random_state=0)\n",
    "#classifier.fit(X_train, y_train)\n",
    "#classifier = DecisionTreeClassifier(criterion='entropy', random_state=0)\n",
    "#classifier.fit(X_train, y_train)\n",
    "svm_classifier = SVC(kernel='linear', probability=True, random_state=0)\n",
    "svm_classifier.fit(X_train, y_train)\n",
    "\n",
    "y_pred = svm_classifier.predict(X_test)\n",
    "\n",
    "accuracy = accuracy_score(y_test, y_pred)\n",
    "print(f\"Accuracy: {accuracy * 100:}%\")"
   ]
  },
  {
   "cell_type": "markdown",
   "id": "ec38a69c-b810-44ff-9e86-81b3a73f7039",
   "metadata": {},
   "source": [
    "KNN\n"
   ]
  },
  {
   "cell_type": "code",
   "execution_count": 88,
   "id": "86bf7770-5740-4321-b268-3d1c39ceacad",
   "metadata": {},
   "outputs": [
    {
     "name": "stdout",
     "output_type": "stream",
     "text": [
      "   glucose  bloodpressure  diabetes\n",
      "0       40             85         0\n",
      "1       40             92         0\n",
      "2       45             63         1\n",
      "3       45             80         0\n",
      "4       40             73         1\n",
      "Accuracy: 93.97590361445783%\n"
     ]
    }
   ],
   "source": [
    "import pandas as pd\n",
    "from sklearn.model_selection import train_test_split\n",
    "from sklearn.tree import DecisionTreeClassifier\n",
    "from sklearn.metrics import accuracy_score, classification_report\n",
    "import matplotlib.pyplot as plt\n",
    "from sklearn import tree\n",
    "from sklearn.neighbors import KNeighborsClassifier\n",
    "from sklearn.ensemble import RandomForestClassifier\n",
    "from sklearn.svm import SVC\n",
    "\n",
    "df = pd.read_csv(\"diabetes.csv.xls\")\n",
    "print(df.head())\n",
    "\n",
    "\n",
    "X = df.drop(\"diabetes\", axis=1)  # Features\n",
    "y = df[\"diabetes\"]  # Target\n",
    "\n",
    "\n",
    "X_train, X_test, y_train, y_test = train_test_split(X, y, test_size=0.25, random_state=42)\n",
    "\n",
    "#classifier = RandomForestClassifier(n_estimators=100, criterion='entropy', random_state=0)\n",
    "#classifier.fit(X_train, y_train)\n",
    "#classifier = DecisionTreeClassifier(criterion='entropy', random_state=0)\n",
    "#classifier.fit(X_train, y_train)\n",
    "#svm_classifier = SVC(kernel='linear', probability=True, random_state=0)\n",
    "#svm_classifier.fit(X_train, y_train)\n",
    "knn_classifier = KNeighborsClassifier(n_neighbors=5)  # You can adjust n_neighbors\n",
    "knn_classifier.fit(X_train, y_train)\n",
    "\n",
    "y_pred = knn_classifier.predict(X_test)\n",
    "\n",
    "accuracy = accuracy_score(y_test, y_pred)\n",
    "print(f\"Accuracy: {accuracy * 100:}%\")"
   ]
  },
  {
   "cell_type": "markdown",
   "id": "c4a1f969-1332-499c-ba69-c6eebb7e3041",
   "metadata": {},
   "source": [
    "LOGISTIC REGRESSION"
   ]
  },
  {
   "cell_type": "code",
   "execution_count": 91,
   "id": "c806c3d1-05c5-4b45-8b30-a9e0214e1d93",
   "metadata": {},
   "outputs": [
    {
     "name": "stdout",
     "output_type": "stream",
     "text": [
      "   glucose  bloodpressure  diabetes\n",
      "0       40             85         0\n",
      "1       40             92         0\n",
      "2       45             63         1\n",
      "3       45             80         0\n",
      "4       40             73         1\n",
      "Accuracy: 92.7710843373494%\n"
     ]
    }
   ],
   "source": [
    "import pandas as pd\n",
    "from sklearn.model_selection import train_test_split\n",
    "from sklearn.tree import DecisionTreeClassifier\n",
    "from sklearn.metrics import accuracy_score, classification_report\n",
    "import matplotlib.pyplot as plt\n",
    "from sklearn import tree\n",
    "from sklearn.neighbors import KNeighborsClassifier\n",
    "from sklearn.ensemble import RandomForestClassifier\n",
    "from sklearn.svm import SVC\n",
    "from sklearn.linear_model import LogisticRegression\n",
    "df = pd.read_csv(\"diabetes.csv.xls\")\n",
    "print(df.head())\n",
    "\n",
    "\n",
    "X = df.drop(\"diabetes\", axis=1)  # Features\n",
    "y = df[\"diabetes\"]  # Target\n",
    "\n",
    "\n",
    "X_train, X_test, y_train, y_test = train_test_split(X, y, test_size=0.25, random_state=42)\n",
    "\n",
    "#classifier = RandomForestClassifier(n_estimators=100, criterion='entropy', random_state=0)\n",
    "#classifier.fit(X_train, y_train)\n",
    "#classifier = DecisionTreeClassifier(criterion='entropy', random_state=0)\n",
    "#classifier.fit(X_train, y_train)\n",
    "#svm_classifier = SVC(kernel='linear', probability=True, random_state=0)\n",
    "#svm_classifier.fit(X_train, y_train)\n",
    "#knn_classifier = KNeighborsClassifier(n_neighbors=5)  # You can adjust n_neighbors\n",
    "#knn_classifier.fit(X_train, y_train)\n",
    "\n",
    "logistic_classifier = LogisticRegression(random_state=0, max_iter=1000)\n",
    "logistic_classifier.fit(X_train, y_train)\n",
    "\n",
    "\n",
    "y_pred = logistic_classifier.predict(X_test)\n",
    "\n",
    "accuracy = accuracy_score(y_test, y_pred)\n",
    "print(f\"Accuracy: {accuracy * 100:}%\")"
   ]
  },
  {
   "cell_type": "code",
   "execution_count": 97,
   "id": "c4335a05-d4c4-47e8-892a-94febe7ae3c0",
   "metadata": {},
   "outputs": [
    {
     "data": {
      "image/png": "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",
      "text/plain": [
       "<Figure size 1200x600 with 1 Axes>"
      ]
     },
     "metadata": {},
     "output_type": "display_data"
    }
   ],
   "source": [
    "import pandas as pd\n",
    "from sklearn.model_selection import train_test_split\n",
    "from sklearn.linear_model import LogisticRegression\n",
    "from sklearn.neighbors import KNeighborsClassifier\n",
    "from sklearn.svm import SVC\n",
    "from sklearn.tree import DecisionTreeClassifier\n",
    "from sklearn.ensemble import RandomForestClassifier\n",
    "from sklearn.naive_bayes import GaussianNB\n",
    "from sklearn.metrics import accuracy_score\n",
    "import matplotlib.pyplot as plt\n",
    "\n",
    "\n",
    "df = pd.read_csv(\"diabetes.csv.xls\")\n",
    "X = df.drop(\"diabetes\", axis=1)  \n",
    "y = df[\"diabetes\"] \n",
    "\n",
    "X_train, X_test, y_train, y_test = train_test_split(X, y, test_size=0.25, random_state=42)\n",
    "\n",
    "models = {\n",
    "    \"Logistic Regression\": LogisticRegression(max_iter=1000, random_state=0),\n",
    "    \"KNN\": KNeighborsClassifier(n_neighbors=5),\n",
    "    \"SVM\": SVC(kernel='linear', random_state=0),\n",
    "    \"Decision Tree\": DecisionTreeClassifier(criterion='entropy', random_state=0),\n",
    "    \"Random Forest\": RandomForestClassifier(n_estimators=100, criterion='entropy', random_state=0),\n",
    "    \"Naive Bayes\": GaussianNB()\n",
    "}\n",
    "\n",
    "\n",
    "accuracy_scores = {}\n",
    "\n",
    "\n",
    "for name, model in models.items():\n",
    "    model.fit(X_train, y_train)  \n",
    "    y_pred = model.predict(X_test)  \n",
    "    accuracy = accuracy_score(y_test, y_pred)  \n",
    "    accuracy_scores[name] = accuracy * 100 \n",
    "\n",
    "\n",
    "plt.figure(figsize=(12, 6))\n",
    "plt.bar(accuracy_scores.keys(), accuracy_scores.values(), color=['red', 'green', 'red', 'red', 'red', 'red'])\n",
    "plt.title(\"Accuracy Scores of Different Models\", fontsize=16)\n",
    "plt.ylabel(\"Accuracy (%)\", fontsize=14)\n",
    "plt.xlabel(\"Models\", fontsize=14)\n",
    "plt.xticks(rotation=45, fontsize=12)\n",
    "plt.ylim(0, 100)\n",
    "plt.grid(axis='y', linestyle='--', alpha=0.7)\n",
    "plt.show()\n"
   ]
  },
  {
   "cell_type": "code",
   "execution_count": null,
   "id": "163ee8d7-f105-4b07-bc3f-55d8c53cafcd",
   "metadata": {},
   "outputs": [],
   "source": []
  }
 ],
 "metadata": {
  "kernelspec": {
   "display_name": "Python 3 (ipykernel)",
   "language": "python",
   "name": "python3"
  },
  "language_info": {
   "codemirror_mode": {
    "name": "ipython",
    "version": 3
   },
   "file_extension": ".py",
   "mimetype": "text/x-python",
   "name": "python",
   "nbconvert_exporter": "python",
   "pygments_lexer": "ipython3",
   "version": "3.12.4"
  }
 },
 "nbformat": 4,
 "nbformat_minor": 5
}
